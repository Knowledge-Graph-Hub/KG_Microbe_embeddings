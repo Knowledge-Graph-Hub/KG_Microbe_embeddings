{
 "cells": [
  {
   "cell_type": "code",
   "execution_count": null,
   "metadata": {
    "colab": {
     "base_uri": "https://localhost:8080/"
    },
    "id": "J7ZyA03eLYb3",
    "outputId": "71f2150d-a212-4a5b-bdf0-3b4f86cb6399",
    "is_executing": true
   },
   "outputs": [],
   "source": [
    "!pip install grape"
   ]
  },
  {
   "cell_type": "code",
   "execution_count": null,
   "outputs": [],
   "source": [
    "# untar if data/merged-kg_edges.tsv and data/merged-kg_nodes.tsv are not present\n",
    "import os \n",
    "if not os.path.exists(\"data/merged-kg_edges.tsv\") or not os.path.exists(\"data/merged-kg_nodes.tsv\"):\n",
    "    # !tar -xzf data/merged-kg.tar.gz via system call\n",
    "    os.system(\"tar -xzf data/merged-kg.tar.gz\")    "
   ],
   "metadata": {
    "collapsed": false,
    "is_executing": true
   }
  },
  {
   "cell_type": "code",
   "execution_count": null,
   "metadata": {
    "id": "7cNrJ7BJLtZc",
    "is_executing": true
   },
   "outputs": [],
   "source": [
    "from grape import Graph\n",
    "\n",
    "kg_microbe = Graph.from_csv(\n",
    "    edge_path=\"data/merged-kg_edges.tsv\",\n",
    "    node_path=\"data/merged-kg_nodes.tsv\",\n",
    "    node_list_separator=\"\\t\",\n",
    "    edge_list_separator=\"\\t\",\n",
    "    node_list_header=True,  # Always true for KG-Hub KGs\n",
    "    edge_list_header=True,  # Always true for KG-Hub KGs\n",
    "    nodes_column='id',  # Always true for KG-Hub KGs\n",
    "    node_list_node_types_column='category',  # Always true for KG-Hub KGs\n",
    "    node_types_separator='|',\n",
    "    sources_column='subject',  # Always true for KG-Hub KGs\n",
    "    destinations_column='object',  # Always true for KG-Hub KGs\n",
    "    edge_list_edge_types_column='predicate',\n",
    "    directed=False,\n",
    "    name='KG Microbe',\n",
    "    # Since we are not providing the node types and edge types lists, the order of\n",
    "    # the node types and edge types would not be deterministic if we were to populate\n",
    "    # the vocabulary in parallel. For this reason, we process them sequentially.\n",
    "    load_node_list_in_parallel=False,\n",
    "    load_edge_list_in_parallel=False,\n",
    ")\n",
    "kg_microbe"
   ]
  },
  {
   "cell_type": "code",
   "execution_count": null,
   "outputs": [],
   "source": [
    "kg_microbe = kg_microbe.remove_disconnected_nodes()\n",
    "kg_microbe"
   ],
   "metadata": {
    "collapsed": false,
    "is_executing": true
   }
  },
  {
   "cell_type": "code",
   "execution_count": 26,
   "outputs": [],
   "source": [
    "import grape \n",
    "\n",
    "sg = grape.models.SkipGram(normalize_by_degree=True, embedding_size=200)\n",
    "degree_normalized_deepwalk_embedding = sg.fit_transform(kg_microbe)"
   ],
   "metadata": {
    "collapsed": false,
    "ExecuteTime": {
     "end_time": "2024-09-10T18:52:33.522558Z",
     "start_time": "2024-09-10T18:52:33.518983Z"
    }
   }
  },
  {
   "cell_type": "code",
   "execution_count": 27,
   "outputs": [
    {
     "name": "stdout",
     "output_type": "stream",
     "text": [
      "2024-09-10_14_52_33\n"
     ]
    },
    {
     "ename": "AttributeError",
     "evalue": "'list' object has no attribute 'get_all_node_embedding'",
     "output_type": "error",
     "traceback": [
      "\u001B[0;31m---------------------------------------------------------------------------\u001B[0m",
      "\u001B[0;31mAttributeError\u001B[0m                            Traceback (most recent call last)",
      "Cell \u001B[0;32mIn[27], line 10\u001B[0m\n\u001B[1;32m      7\u001B[0m formatted_date \u001B[38;5;241m=\u001B[39m current_datetime\u001B[38;5;241m.\u001B[39mstrftime(\u001B[38;5;124m\"\u001B[39m\u001B[38;5;124m%\u001B[39m\u001B[38;5;124mY-\u001B[39m\u001B[38;5;124m%\u001B[39m\u001B[38;5;124mm-\u001B[39m\u001B[38;5;132;01m%d\u001B[39;00m\u001B[38;5;124m_\u001B[39m\u001B[38;5;124m%\u001B[39m\u001B[38;5;124mH_\u001B[39m\u001B[38;5;124m%\u001B[39m\u001B[38;5;124mM_\u001B[39m\u001B[38;5;124m%\u001B[39m\u001B[38;5;124mS\u001B[39m\u001B[38;5;124m\"\u001B[39m)\n\u001B[1;32m      8\u001B[0m \u001B[38;5;28mprint\u001B[39m(formatted_date)\n\u001B[0;32m---> 10\u001B[0m node_embed \u001B[38;5;241m=\u001B[39m \u001B[43mdegree_normalized_deepwalk_embedding\u001B[49m\u001B[38;5;241;43m.\u001B[39;49m\u001B[43mget_all_node_embedding\u001B[49m()\u001B[38;5;66;03m#to_csv(formatted_date+\".tsv\",sep=\"\\t\")\u001B[39;00m\n\u001B[1;32m     11\u001B[0m \u001B[38;5;66;03m# For the first embedding\u001B[39;00m\n\u001B[1;32m     12\u001B[0m node_embed_df \u001B[38;5;241m=\u001B[39m pd\u001B[38;5;241m.\u001B[39mDataFrame(node_embed[\u001B[38;5;241m0\u001B[39m])\n",
      "\u001B[0;31mAttributeError\u001B[0m: 'list' object has no attribute 'get_all_node_embedding'"
     ]
    }
   ],
   "source": [
    "import matplotlib.pyplot as plt\n",
    "import datetime\n",
    "import pandas as pd\n",
    "from grape import GraphVisualizer\n",
    "\n",
    "current_datetime = datetime.datetime.now()\n",
    "formatted_date = current_datetime.strftime(\"%Y-%m-%d_%H_%M_%S\")\n",
    "print(formatted_date)\n",
    "\n",
    "node_embed = degree_normalized_deepwalk_embedding.get_all_node_embeddings()#to_csv(formatted_date+\".tsv\",sep=\"\\t\")\n",
    "# For the first embedding\n",
    "node_embed_df = pd.DataFrame(node_embed[0])\n",
    "node_embed_df.to_csv(\"../output/DeepWalkSkipGramEnsmallen_degreenorm_embedding_200_\" + formatted_date + \".tsv.gz\", sep=\"\\t\", compression='gzip')"
   ],
   "metadata": {
    "collapsed": false,
    "ExecuteTime": {
     "end_time": "2024-09-10T18:52:33.550490Z",
     "start_time": "2024-09-10T18:52:33.529158Z"
    }
   }
  },
  {
   "cell_type": "code",
   "execution_count": null,
   "outputs": [],
   "source": [
    "visualizer = GraphVisualizer(kg_microbe).fit_and_plot_all(degree_normalized_deepwalk_embedding)\n",
    "visualizer.fit_and_plot_all(degree_normalized_deepwalk_embedding)\n",
    "plt.savefig('../output/DeepWalkSkipGramEnsmallen_degreenorm_embedding_200_'+formatted_date+'.png')\n",
    "plt.savefig('../output/DeepWalkSkipGramEnsmallen_degreenorm_embedding_200_'+formatted_date+'.pdf')\n",
    "plt.close() "
   ],
   "metadata": {
    "collapsed": false,
    "ExecuteTime": {
     "start_time": "2024-09-10T18:52:33.548578Z"
    }
   }
  }
 ],
 "metadata": {
  "colab": {
   "provenance": []
  },
  "kernelspec": {
   "display_name": "Python 3 (ipykernel)",
   "language": "python",
   "name": "python3"
  },
  "language_info": {
   "codemirror_mode": {
    "name": "ipython",
    "version": 3
   },
   "file_extension": ".py",
   "mimetype": "text/x-python",
   "name": "python",
   "nbconvert_exporter": "python",
   "pygments_lexer": "ipython3",
   "version": "3.11.9"
  }
 },
 "nbformat": 4,
 "nbformat_minor": 4
}
